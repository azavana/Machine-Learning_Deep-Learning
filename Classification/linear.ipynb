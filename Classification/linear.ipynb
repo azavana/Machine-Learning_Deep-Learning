{
 "cells": [
  {
   "cell_type": "code",
   "execution_count": 2,
   "metadata": {},
   "outputs": [
    {
     "name": "stdout",
     "output_type": "stream",
     "text": [
      "0 37.146015\n",
      "100 0.037408046\n",
      "200 0.0069577224\n",
      "300 0.0012940895\n",
      "400 0.00024069817\n",
      "500 4.4771507e-05\n",
      "600 8.326368e-06\n",
      "700 1.548756e-06\n",
      "800 2.8831704e-07\n",
      "900 5.3703708e-08\n",
      "learned parameters [4.7977206e-05 9.9998915e-01]\n",
      "accuracy 0.45\n"
     ]
    },
    {
     "data": {
      "image/png": "[encoded data removed]",
      "text/plain": [
       "<Figure size 432x288 with 1 Axes>"
      ]
     },
     "metadata": {
      "needs_background": "light"
     },
     "output_type": "display_data"
    }
   ],
   "source": [
    "# Linear regression for classification\n",
    "\n",
    "# Imagine that one of your friend is an avid chess player, and you have records of her win/loss history. Moreover, each game has a\n",
    "# time limit ranging from 1 to 10 minutes, and your friend always wins short games. \n",
    "# You want to challenge her to a game that you’re sure of winning. Obviously, your friend doesn't want to play a long games against you.\n",
    "\n",
    "import tensorflow.compat.v1 as tf\n",
    "tf.disable_v2_behavior() # If you use tensorlfow 1 instead of tensorflow 2\n",
    "import numpy as np\n",
    "import matplotlib.pyplot as plt\n",
    "\n",
    "x_label0 = np.random.normal(5,1,10)\n",
    "x_label1 = np.random.normal(2,1,10)\n",
    "xs = np.append(x_label0,x_label1)\n",
    "labels = [0.]*len(x_label0)+[1.]*len(x_label1)\n",
    "\n",
    "plt.scatter(xs,labels)\n",
    "\n",
    "learning_rate = 0.001\n",
    "training_epochs = 1000\n",
    "\n",
    "X = tf.placeholder(\"float\")\n",
    "Y = tf.placeholder(\"float\")\n",
    "\n",
    "def model(X,w):\n",
    "\treturn tf.add(tf.multiply(w[1],tf.pow(X,1)),tf.multiply(w[0],tf.pow(X,0)))\n",
    "\t\n",
    "w = tf.Variable([0.,0.],name=\"parameters\")\n",
    "y_model = model(X,w)\n",
    "cost = tf.reduce_sum(tf.square(X-y_model))\n",
    "\n",
    "train_op = tf.train.GradientDescentOptimizer(learning_rate).minimize(cost)\n",
    "\n",
    "sess = tf.Session()\n",
    "init = tf.global_variables_initializer()\n",
    "sess.run(init)\n",
    "\n",
    "for epoch in range(training_epochs):\n",
    "\tsess.run(train_op,feed_dict={X: xs, Y: labels})\n",
    "\tcurrent_cost = sess.run(cost,feed_dict={X: xs, Y: labels})\n",
    "\tif epoch%100==0:\n",
    "\t\tprint(epoch,current_cost)\n",
    "\n",
    "w_val = sess.run(w)\n",
    "print('learned parameters',w_val)\n",
    "\n",
    "correct_prediction = tf.equal(Y,tf.to_float(tf.greater(y_model,0.5)))\n",
    "accuracy = tf.reduce_mean(tf.to_float(correct_prediction))\n",
    "\n",
    "print('accuracy', sess.run(accuracy,feed_dict={X: xs, Y: labels}))\n",
    "\n",
    "sess.close()\n",
    "\n",
    "all_xs = np.linspace(0,10,100)\n",
    "plt.plot(all_xs, all_xs*w_val[1]+w_val[0])\n",
    "plt.show()"
   ]
  },
  {
   "cell_type": "code",
   "execution_count": 4,
   "metadata": {},
   "outputs": [
    {
     "name": "stdout",
     "output_type": "stream",
     "text": [
      "0 71.64756\n",
      "100 0.0021390147\n",
      "200 3.1312033e-05\n",
      "300 4.5828068e-07\n",
      "400 6.769792e-09\n",
      "500 8.2447826e-11\n",
      "600 4.0536463e-12\n",
      "700 3.1974423e-14\n",
      "800 2.6645353e-15\n",
      "900 0.0\n",
      "learned parameters [1.476777e-08 1.000000e+00]\n",
      "accuracy 0.35\n"
     ]
    },
    {
     "data": {
      "image/png": "[encoded data removed]",
      "text/plain": [
       "<Figure size 432x288 with 1 Axes>"
      ]
     },
     "metadata": {
      "needs_background": "light"
     },
     "output_type": "display_data"
    }
   ],
   "source": [
    "# Linear regression fail miserably. In this example, suppose that your friend lost a game that took 20 minutes.\n",
    "# The original classifier suggested that you could beat Alice in a three-minute game.\n",
    "# Your friend would probably agree to play such a short game. But the revised classifier, if you stick\n",
    "# with the same 0.5 threshold, is now suggesting that the shortest game your friend will lose is a\n",
    "# five-minute game. Your friend will likely refuse to play such a long game!\n",
    "\n",
    "import tensorflow.compat.v1 as tf\n",
    "tf.disable_v2_behavior() # If you use tensorlfow 1 instead of tensorflow 2\n",
    "import numpy as np\n",
    "import matplotlib.pyplot as plt\n",
    "\n",
    "x_label0 = np.append(np.random.normal(5,1,9),20) # Replace the previous one with the new parameter: 20 minutes.\n",
    "x_label1 = np.random.normal(2,1,10)\n",
    "xs = np.append(x_label0,x_label1)\n",
    "labels = [0.]*len(x_label0)+[1.]*len(x_label1)\n",
    "\n",
    "plt.scatter(xs,labels)\n",
    "\n",
    "learning_rate = 0.001\n",
    "training_epochs = 1000\n",
    "\n",
    "X = tf.placeholder(\"float\")\n",
    "Y = tf.placeholder(\"float\")\n",
    "\n",
    "def model(X,w):\n",
    "\treturn tf.add(tf.multiply(w[1],tf.pow(X,1)),tf.multiply(w[0],tf.pow(X,0)))\n",
    "\t\n",
    "w = tf.Variable([0.,0.],name=\"parameters\")\n",
    "y_model = model(X,w)\n",
    "cost = tf.reduce_sum(tf.square(X-y_model))\n",
    "\n",
    "train_op = tf.train.GradientDescentOptimizer(learning_rate).minimize(cost)\n",
    "\n",
    "sess = tf.Session()\n",
    "init = tf.global_variables_initializer()\n",
    "sess.run(init)\n",
    "\n",
    "for epoch in range(training_epochs):\n",
    "\tsess.run(train_op,feed_dict={X: xs, Y: labels})\n",
    "\tcurrent_cost = sess.run(cost,feed_dict={X: xs, Y: labels})\n",
    "\tif epoch%100==0:\n",
    "\t\tprint(epoch,current_cost)\n",
    "\n",
    "w_val = sess.run(w)\n",
    "print('learned parameters',w_val)\n",
    "\n",
    "correct_prediction = tf.equal(Y,tf.to_float(tf.greater(y_model,0.5)))\n",
    "accuracy = tf.reduce_mean(tf.to_float(correct_prediction))\n",
    "\n",
    "print('accuracy', sess.run(accuracy,feed_dict={X: xs, Y: labels}))\n",
    "\n",
    "sess.close()\n",
    "\n",
    "all_xs = np.linspace(0,10,100)\n",
    "plt.plot(all_xs, all_xs*w_val[1]+w_val[0])\n",
    "plt.show()"
   ]
  },
  {
   "cell_type": "code",
   "execution_count": null,
   "metadata": {},
   "outputs": [],
   "source": []
  }
 ],
 "metadata": {
  "kernelspec": {
   "display_name": "Python 3",
   "language": "python",
   "name": "python3"
  },
  "language_info": {
   "codemirror_mode": {
    "name": "ipython",
    "version": 3
   },
   "file_extension": ".py",
   "mimetype": "text/x-python",
   "name": "python",
   "nbconvert_exporter": "python",
   "pygments_lexer": "ipython3",
   "version": "3.5.2"
  }
 },
 "nbformat": 4,
 "nbformat_minor": 2
}

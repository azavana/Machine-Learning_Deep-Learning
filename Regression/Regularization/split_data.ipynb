{
 "cells": [
  {
   "cell_type": "code",
   "execution_count": null,
   "metadata": {},
   "outputs": [],
   "source": [
    "# Spliting data function\n",
    "import numpy as np\n",
    "\n",
    "def split_dataset(x_dataset, y_dataset, ratio): # Takes the input and output dataset as well as the desired split ratio\n",
    "\n",
    "\t# Shuffles a list of numbers\n",
    "\tarr = np.arange(x_dataset.size)\n",
    "\tnp.random.shuffle(arr)\n",
    "\tnum_train = int(ratio*x_dataset.size) # Calculates the number of training examples\n",
    "\t\n",
    "\t# Uses the shuffled llist to split the x_dataset and y_dataset\n",
    "\tx_train = x_dataset[arr[0:num_train]]\n",
    "\tx_test = x_dataset[arr[num_train:x_dataset.size]]\n",
    "\ty_train = y_dataset[arr[0:num_train]]\n",
    "\ty_test = y_dataset[arr[num_train:x_dataset.size]]\n",
    "\t\n",
    "\t# Returns the split x and y datasets\n",
    "\treturn x_train, x_test, y_train, y_test"
   ]
  }
 ],
 "metadata": {
  "kernelspec": {
   "display_name": "Python 3",
   "language": "python",
   "name": "python3"
  },
  "language_info": {
   "codemirror_mode": {
    "name": "ipython",
    "version": 3
   },
   "file_extension": ".py",
   "mimetype": "text/x-python",
   "name": "python",
   "nbconvert_exporter": "python",
   "pygments_lexer": "ipython3",
   "version": "3.5.2"
  }
 },
 "nbformat": 4,
 "nbformat_minor": 2
}

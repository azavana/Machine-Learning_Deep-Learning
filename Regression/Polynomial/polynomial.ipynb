{
 "cells": [
  {
   "cell_type": "code",
   "execution_count": 2,
   "metadata": {},
   "outputs": [
    {
     "name": "stdout",
     "output_type": "stream",
     "text": [
      "[1.0732385 0.6691259 3.924283  5.934211  4.0665007 6.5437493]\n"
     ]
    },
    {
     "data": {
      "image/png": "[encoded data removed]",
      "text/plain": [
       "<Figure size 432x288 with 1 Axes>"
      ]
     },
     "metadata": {
      "needs_background": "light"
     },
     "output_type": "display_data"
    }
   ],
   "source": [
    "import tensorflow as tf\n",
    "import numpy as np\n",
    "import matplotlib.pyplot as plt\n",
    "\n",
    "learning_rate = 0.01\n",
    "training_epochs = 40\n",
    "\n",
    "trX = np.linspace(-1,1,101)\n",
    "\n",
    "num_coeffs = 6\n",
    "trY_coeffs = [1,2,3,4,5,6]\n",
    "trY = 0\n",
    "for i in range(num_coeffs):\n",
    "\ttrY += trY_coeffs[i]*np.power(trX,i)\n",
    "\n",
    "trY += np.random.randn(*trX.shape)*1.5\n",
    "\n",
    "X = tf.placeholder(tf.float32)\n",
    "Y = tf.placeholder(tf.float32)\n",
    "\n",
    "def model(X,w):\n",
    "\tterms = []\n",
    "\tfor i in range(num_coeffs):\n",
    "\t\tterm = tf.multiply(w[i],tf.pow(X,i))\n",
    "\t\tterms.append(term)\n",
    "\treturn tf.add_n(terms)\n",
    "\t\n",
    "w = tf.Variable([0.]*num_coeffs,name=\"parameters\")\n",
    "y_model = model(X,w)\n",
    "\n",
    "cost = (tf.pow(Y-y_model,2))\n",
    "train_op = tf.train.GradientDescentOptimizer(learning_rate).minimize(cost)\n",
    "\n",
    "sess = tf.Session()\n",
    "init = tf.global_variables_initializer()\n",
    "sess.run(init)\n",
    "\n",
    "for epoch in range(training_epochs):\n",
    "\tfor (x,y) in zip(trX,trY):\n",
    "\t\tsess.run(train_op,feed_dict={X:x, Y:y})\n",
    "\t\t\n",
    "w_val = sess.run(w)\n",
    "print(w_val)\n",
    "\n",
    "sess.close()\n",
    "\n",
    "plt.scatter(trX,trY)\n",
    "trY2 = 0\n",
    "for i in range(num_coeffs):\n",
    "\ttrY2 += w_val[i]*np.power(trX,i)\n",
    "\n",
    "plt.plot(trX,trY2, 'r')\n",
    "plt.show()"
   ]
  },
  {
   "cell_type": "code",
   "execution_count": null,
   "metadata": {},
   "outputs": [],
   "source": []
  }
 ],
 "metadata": {
  "kernelspec": {
   "display_name": "Python 3",
   "language": "python",
   "name": "python3"
  },
  "language_info": {
   "codemirror_mode": {
    "name": "ipython",
    "version": 3
   },
   "file_extension": ".py",
   "mimetype": "text/x-python",
   "name": "python",
   "nbconvert_exporter": "python",
   "pygments_lexer": "ipython3",
   "version": "3.5.2"
  }
 },
 "nbformat": 4,
 "nbformat_minor": 2
}
